{
 "cells": [
  {
   "cell_type": "markdown",
   "metadata": {},
   "source": [
    "**Porque python es el mejor lenguaje**"
   ]
  },
  {
   "cell_type": "markdown",
   "metadata": {},
   "source": [
    "![](https://encrypted-tbn0.gstatic.com/images?q=tbn%3AANd9GcTZRdTaCCj8GTGa_YDaKu-JnFwMxJOQlinKuw&usqp=CAU)"
   ]
  },
  {
   "cell_type": "markdown",
   "metadata": {},
   "source": [
    "python se ha vuelto muy popular debido a su conjunto de biblotecas robustas que lo convierten en un lenguaje de programacion tan dinamico y rapido, esta orientado a objetos y realmente permite hacer de todo, desde la creación de un sitio web hasta el desarrollo de aplicaciones y la creación de diferentes tipos de modelos de datos\". python es un lenguaje facil de utilizar , y con poco codigo se puede lograr mucho, por lo que es la mejor opcion para un principiante.\n",
    "\n",
    "Hay una gran cantidad de bibliotecas de Python de código abierto disponibles que probablemente pueden lograr lo que necesita para ayudar a resolver cualquier problema que se pueda presentar, de manera que es el lenguaje de programacion perfecto para poder utilizar para en desarrollo de simulaciones matematicas entre otras.\n",
    "\n",
    "Incluso puede utilizar varios marcos, bibliotecas y herramientas de desarrollo de Python de código abierto para reducir el tiempo de desarrollo sin aumentar el costo de desarrollo.\n",
    "\n"
   ]
  },
  {
   "cell_type": "markdown",
   "metadata": {},
   "source": []
  },
  {
   "cell_type": "markdown",
   "metadata": {},
   "source": [
    "\"la comunidad de usuarios es tan grande, que cualquiera que encuentre algún problema de codificación puede encontrar rápidamente la solución simplemente publicando una pregunta o buscando la respuesta en un sitio de la comunidad de desarrolladores de Python\"\n",
    "![](https://encrypted-tbn0.gstatic.com/images?q=tbn%3AANd9GcSj5BrwGZn6th2sxBESYB3EW5H1f_d6La0VBA&usqp=CAU)"
   ]
  },
  {
   "cell_type": "markdown",
   "metadata": {},
   "source": [
    "Puede utilizar Python para crear un prototipo de la aplicación de software rápidamente. Además, puede crear la aplicación de software directamente desde el prototipo simplemente refactorizando el código Python. Python incluso hace que sea más fácil para usted realizar la codificación y las pruebas simultáneamente al adoptar un enfoque de desarrollo impulsado por pruebas."
   ]
  },
  {
   "cell_type": "markdown",
   "metadata": {},
   "source": [
    "**razones por las que deberias aprender python**"
   ]
  },
  {
   "cell_type": "markdown",
   "metadata": {},
   "source": [
    "Python se a vuelto  muy popular desde  los programadores novatos hasta los programadores experto, La legibilidad de Python lo convierte en un excelente primer lenguaje de programación , ya que te permite programar y no perder tiempo con una sintaxis confusa, como es el caso en la mayoría de los lenguajes , un ejemplo de esto es la cantidad de líneas de código que requieres para poder hacer lo mismo"
   ]
  },
  {
   "cell_type": "markdown",
   "metadata": {},
   "source": [
    "![](https://www.pluralsight.com/content/pluralsight/en/blog/software-development/why/why-python/jcr:content/main/image/image-res.img.b2498e3a-c30b-4bb7-a4a4-49f29eb5d82f.png)"
   ]
  },
  {
   "cell_type": "markdown",
   "metadata": {},
   "source": [
    "Python tan fácil como eso! Si Python no está instalado, es fácil de  descargar e instalar . En lugar de concentrarse en cómo hacer que su código se ejecute, podrá concentrarse en aprender conceptos de programación reales. Y una vez que tenga esas herramientas en su haber, si pasa a otros idiomas, podrá comprender fácilmente un fragmento de código determinado."
   ]
  },
  {
   "cell_type": "markdown",
   "metadata": {},
   "source": [
    "![](https://encrypted-tbn0.gstatic.com/images?q=tbn%3AANd9GcSTpkS2paNPK44hXnC9foZGLBvRza4kj_oicQ&usqp=CAU)"
   ]
  },
  {
   "cell_type": "markdown",
   "metadata": {},
   "source": [
    "Otra de las grandes virtudes de programar en python es que tiene una grande compatibilidad multiplataforma, dado que es facil de utilizar python es muy poderoso. muchas empresas importantes lo utilizan como google, Dropbox, Spotify y netflix.\n",
    "al hechar un vistazo a todas estas empresas, puedes notar como es que se beneficiaron con la facilidad de uso y porque es ideal para la creación rápida de prototipos e iteraciones. También puede ver que Python se puede usar para una amplia variedad de aplicaciones."
   ]
  }
 ],
 "metadata": {
  "kernelspec": {
   "display_name": "Python 3",
   "language": "python",
   "name": "python3"
  },
  "language_info": {
   "codemirror_mode": {
    "name": "ipython",
    "version": 3
   },
   "file_extension": ".py",
   "mimetype": "text/x-python",
   "name": "python",
   "nbconvert_exporter": "python",
   "pygments_lexer": "ipython3",
   "version": "3.8.3"
  }
 },
 "nbformat": 4,
 "nbformat_minor": 4
}
